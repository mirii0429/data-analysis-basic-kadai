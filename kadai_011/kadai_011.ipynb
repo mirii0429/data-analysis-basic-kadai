{
  "nbformat": 4,
  "nbformat_minor": 0,
  "metadata": {
    "colab": {
      "provenance": []
    },
    "kernelspec": {
      "name": "python3",
      "display_name": "Python 3"
    },
    "language_info": {
      "name": "python"
    }
  },
  "cells": [
    {
      "cell_type": "code",
      "source": [
        "#配列（リスト）\n",
        "array = [\"水\", \"金\", \"地\", \"火\", \"木\", \"土\", \"天\", \"海\", \"冥\"]\n",
        "\n",
        "\n",
        "#ループ変数iに2を終了数としたrange関数を繰り返し格納する\n",
        "#range関数は0、1回の2回ループさせる\n",
        "for i in range(2):\n",
        "  #配列arrayの要素を1つずつ順番に出力する。arrayの各要素を変数valueに代入して出力するようにする。\n",
        "  for value in array:\n",
        "    print(value)\n"
      ],
      "metadata": {
        "colab": {
          "base_uri": "https://localhost:8080/"
        },
        "id": "I6AlePqhaYcP",
        "outputId": "ab4db1d3-9726-41ff-9e16-3f6b4c7c0dee"
      },
      "execution_count": 21,
      "outputs": [
        {
          "output_type": "stream",
          "name": "stdout",
          "text": [
            "水\n",
            "金\n",
            "地\n",
            "火\n",
            "木\n",
            "土\n",
            "天\n",
            "海\n",
            "冥\n",
            "水\n",
            "金\n",
            "地\n",
            "火\n",
            "木\n",
            "土\n",
            "天\n",
            "海\n",
            "冥\n"
          ]
        }
      ]
    },
    {
      "cell_type": "code",
      "source": [
        "#カウンタ変数を用意する\n",
        "i = 1\n",
        "\n",
        "#配列（リスト）\n",
        "array = [\"水\", \"金\", \"地\", \"火\", \"木\", \"土\", \"天\", \"海\", \"冥\"]\n",
        "\n",
        "#カウンタ変数iが1以上、3未満（つまり2回）の時に配列arrayを要素ごとに羅列する\n",
        "while 1 <= i < 3:\n",
        "  for value in array:\n",
        "    print(value)\n",
        "  #次のループ用にiに1回を足す（i = i + 1はwhileのループ内に組み込む）\n",
        "  i = i + 1"
      ],
      "metadata": {
        "colab": {
          "base_uri": "https://localhost:8080/"
        },
        "id": "9XpS47rEkCUV",
        "outputId": "bb587bd0-247a-4b53-b913-eff7dc7aa42b"
      },
      "execution_count": 34,
      "outputs": [
        {
          "output_type": "stream",
          "name": "stdout",
          "text": [
            "水\n",
            "金\n",
            "地\n",
            "火\n",
            "木\n",
            "土\n",
            "天\n",
            "海\n",
            "冥\n",
            "水\n",
            "金\n",
            "地\n",
            "火\n",
            "木\n",
            "土\n",
            "天\n",
            "海\n",
            "冥\n"
          ]
        }
      ]
    }
  ]
}