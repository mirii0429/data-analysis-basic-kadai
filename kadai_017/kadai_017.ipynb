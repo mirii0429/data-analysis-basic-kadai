{
  "nbformat": 4,
  "nbformat_minor": 0,
  "metadata": {
    "colab": {
      "provenance": []
    },
    "kernelspec": {
      "name": "python3",
      "display_name": "Python 3"
    },
    "language_info": {
      "name": "python"
    }
  },
  "cells": [
    {
      "cell_type": "code",
      "execution_count": 9,
      "metadata": {
        "colab": {
          "base_uri": "https://localhost:8080/"
        },
        "id": "9iQhe-FIKp6r",
        "outputId": "30c46e89-8fbe-4d0e-8e9a-efba67c629c4"
      },
      "outputs": [
        {
          "output_type": "stream",
          "name": "stdout",
          "text": [
            "名前はBob、年齢は18\n",
            "Bobは大人ではありません。\n",
            "名前はNancy、年齢は20\n",
            "Nancyは大人です。\n",
            "名前はMike、年齢は60\n",
            "Mikeは大人です。\n"
          ]
        }
      ],
      "source": [
        "#クラスを作成\n",
        "class Human:\n",
        "  #属性を定義するコンストラクタdef __init__を入力\n",
        "  #名前(name)と年齢(age)の属性をそれぞれ文字列と整数を指定して定義\n",
        "  def __init__(self, name: str, age:int):\n",
        "    self.name = name\n",
        "    self.age = age\n",
        "\n",
        "#年を判別する関数check_adultを作成\n",
        "  def check_adult(self):\n",
        "    if self.age >= 20:\n",
        "      print(f\"{self.name}は大人です。\")\n",
        "    else:\n",
        "      print(f\"{self.name}は大人ではありません。\")\n",
        "\n",
        "#Humanクラスのインスタンスを作成、check_adultメソッドを呼び出す\n",
        "Bob = Human(\"Bob\", 18)\n",
        "# Bob.check_adult()\n",
        "\n",
        "Nancy = Human(\"Nancy\", 20)\n",
        "# Nancy.check_adult()\n",
        "\n",
        "Mike = Human(\"Mike\", 60)\n",
        "# Mike.check_adult()\n",
        "\n",
        "#上記でインスタンス化したBob、Nancy、Mikeをリストにする\n",
        "# \"\"で囲って文字列化すると上での変数が上書きされてしまうので囲わない\n",
        "human = [Bob, Nancy, Mike]\n",
        "\n",
        "#humanリストの各インスタンスをhuman_nameに代入\n",
        "for human_name in human:\n",
        "   #print(human_name)だとHumanインスタンスを出力しているので、\n",
        "   #<__main__.Human object at 0x7b3bd9e51cd0>のようにオブジェクトのメモリアドレスのみがprintされる。\n",
        "    print(f\"名前は{human_name.name}、年齢は{human_name.age}\")\n",
        "    human_name.check_adult()\n"
      ]
    }
  ]
}