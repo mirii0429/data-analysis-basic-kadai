{
  "nbformat": 4,
  "nbformat_minor": 0,
  "metadata": {
    "colab": {
      "provenance": []
    },
    "kernelspec": {
      "name": "python3",
      "display_name": "Python 3"
    },
    "language_info": {
      "name": "python"
    }
  },
  "cells": [
    {
      "cell_type": "code",
      "execution_count": 6,
      "metadata": {
        "colab": {
          "base_uri": "https://localhost:8080/"
        },
        "id": "9iQhe-FIKp6r",
        "outputId": "46880095-133a-47eb-a78d-6c11b3fc182e"
      },
      "outputs": [
        {
          "output_type": "stream",
          "name": "stdout",
          "text": [
            "Bobは大人ではありません。\n",
            "Nancyは大人です。\n",
            "Mikeは大人です。\n"
          ]
        }
      ],
      "source": [
        "#クラスを作成\n",
        "class Human:\n",
        "  #属性を定義するコンストラクタdef __init__を入力\n",
        "  #名前(name)と年齢(age)の属性をそれぞれ文字列と整数を指定して定義\n",
        "  def __init__(self, name: str, age:int):\n",
        "    self.name = name\n",
        "    self.age = age\n",
        "\n",
        "　#年を判別する関数check_adultを作成\n",
        "  def check_adult(self):\n",
        "    if self.age >= 20:\n",
        "      print(f\"{self.name}は大人です。\")\n",
        "    else:\n",
        "      print(f\"{self.name}は大人ではありません。\")\n",
        "\n",
        "#Humanクラスのインスタンスを作成、check_adultメソッドを呼び出す\n",
        "Bob = Human(\"Bob\", 18)\n",
        "Bob.check_adult()\n",
        "\n",
        "Nancy = Human(\"Nancy\", 20)\n",
        "Nancy.check_adult()\n",
        "\n",
        "Mike = Human(\"Mike\", 60)\n",
        "Mike.check_adult()"
      ]
    }
  ]
}