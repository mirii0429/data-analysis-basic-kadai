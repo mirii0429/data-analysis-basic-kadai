{
  "nbformat": 4,
  "nbformat_minor": 0,
  "metadata": {
    "colab": {
      "provenance": []
    },
    "kernelspec": {
      "name": "python3",
      "display_name": "Python 3"
    },
    "language_info": {
      "name": "python"
    }
  },
  "cells": [
    {
      "cell_type": "code",
      "execution_count": 4,
      "metadata": {
        "colab": {
          "base_uri": "https://localhost:8080/"
        },
        "id": "z7zYprHshTwd",
        "outputId": "80345042-c4ae-4658-a17e-6a7640df1471"
      },
      "outputs": [
        {
          "output_type": "stream",
          "name": "stdout",
          "text": [
            "税込金額は121.00000000000001円です。\n"
          ]
        }
      ],
      "source": [
        "#整数の引数priceと引数tax_rateを指定した関数calculate_totalを定義する。\n",
        "#税込金額を戻り値として返すようにする。\n",
        "def calculate_total(price: int, tax_rate: int):\n",
        "  return price * (1 + tax_rate / 100)\n",
        "\n",
        "#引数に110円と10%を代入した合計を変数totalとする。\n",
        "#税込金額を表示する。\n",
        "total = calculate_total(110, 10)\n",
        "print(f\"税込金額は{total}円です。\")\n"
      ]
    }
  ]
}