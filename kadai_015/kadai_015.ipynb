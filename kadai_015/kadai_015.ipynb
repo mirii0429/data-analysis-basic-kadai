{
  "nbformat": 4,
  "nbformat_minor": 0,
  "metadata": {
    "colab": {
      "provenance": []
    },
    "kernelspec": {
      "name": "python3",
      "display_name": "Python 3"
    },
    "language_info": {
      "name": "python"
    }
  },
  "cells": [
    {
      "cell_type": "code",
      "execution_count": 4,
      "metadata": {
        "colab": {
          "base_uri": "https://localhost:8080/"
        },
        "id": "sFvUmPoYz2Pk",
        "outputId": "93e1abaf-95fd-4cc0-ef30-d9cdbdc6dde2"
      },
      "outputs": [
        {
          "output_type": "stream",
          "name": "stdout",
          "text": [
            "Mirii\n",
            "26\n"
          ]
        }
      ],
      "source": [
        "class Human:\n",
        "\n",
        "  #属性を定義するコンストラクタdef __init__を入力\n",
        "  #名前(name)と年齢(age)の属性をそれぞれ文字列と整数を指定して定義\n",
        "  def __init__(self, name: str, age: int):\n",
        "    self.name = name\n",
        "    self.age = age\n",
        "\n",
        "  #nameとageを標準出力(print)するメソッド(printinfo)を定義\n",
        "  def printinfo(self):\n",
        "    print(self.name)\n",
        "    print(self.age)\n",
        "\n",
        "#オブジェクトhumanをクラスHumanのインスタンス化する\n",
        "human = Human(\"Mirii\", 26)\n",
        "\n",
        "#関数printinfoを実行\n",
        "human.printinfo()\n",
        "\n"
      ]
    }
  ]
}